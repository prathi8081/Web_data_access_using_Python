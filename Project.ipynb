{
 "cells": [
  {
   "cell_type": "code",
   "execution_count": 1,
   "metadata": {},
   "outputs": [],
   "source": [
    "from bs4 import BeautifulSoup\n",
    "import requests\n",
    "import pandas as pd"
   ]
  },
  {
   "cell_type": "code",
   "execution_count": 56,
   "metadata": {},
   "outputs": [],
   "source": [
    "URL='https://en.wikipedia.org/wiki/Frozen_II'\n",
    "response=requests.get(URL)\n",
    "soup=BeautifulSoup(response.text,'html.parser')"
   ]
  },
  {
   "cell_type": "code",
   "execution_count": 17,
   "metadata": {},
   "outputs": [
    {
     "name": "stdout",
     "output_type": "stream",
     "text": [
      "<title>Frozen II - Wikipedia</title>\n"
     ]
    }
   ],
   "source": [
    "print(soup.title)"
   ]
  },
  {
   "cell_type": "code",
   "execution_count": 18,
   "metadata": {},
   "outputs": [
    {
     "name": "stdout",
     "output_type": "stream",
     "text": [
      "Frozen II - Wikipedia\n"
     ]
    }
   ],
   "source": [
    "print(soup.title.text)"
   ]
  },
  {
   "cell_type": "code",
   "execution_count": 19,
   "metadata": {},
   "outputs": [
    {
     "name": "stdout",
     "output_type": "stream",
     "text": [
      "Frozen II\n"
     ]
    }
   ],
   "source": [
    "print(soup.find(\"i\").text)"
   ]
  },
  {
   "cell_type": "code",
   "execution_count": 39,
   "metadata": {},
   "outputs": [
    {
     "name": "stdout",
     "output_type": "stream",
     "text": [
      "['Frozen II', 'Theatrical release poster', 'Directed by Chris Buck Jennifer Lee', 'Produced byPeter Del Vecho', 'Screenplay by Jennifer Lee[1]', 'Story by Chris Buck[2] Jennifer Lee[2] Marc E. Smith[2] Kristen Anderson-Lopez[2] Robert Lopez[2]', 'Starring Kristen Bell Idina Menzel Josh Gad Jonathan Groff', 'Music by Songs: Robert Lopez Kristen Anderson-Lopez Score: Christophe Beck[3]', 'Cinematography Tracy Scott Beattie (layout) Mohit Kallianpur (lighting)', 'Edited byJeff Draheim', 'Productioncompany  Walt Disney Pictures Walt Disney Animation Studios', 'Distributed byWalt Disney StudiosMotion Pictures', 'Release date November\\xa07,\\xa02019\\xa0(2019-11-07) (Dolby Theatre) November\\xa022,\\xa02019\\xa0(2019-11-22) (United States)', 'Running time103 minutes[4]', 'CountryUnited States', 'LanguageEnglish', 'Budget$150 million[5]', 'Box office$1.450 billion[5][6]']\n"
     ]
    }
   ],
   "source": [
    "table = soup.find(\"table\")\n",
    "\n",
    "table_data= []\n",
    "for tr in table.find_all(\"tr\"):\n",
    "    table_data.append(tr.text.replace('\\n', ' ').strip())\n",
    "print(table_data)"
   ]
  },
  {
   "cell_type": "code",
   "execution_count": 46,
   "metadata": {},
   "outputs": [
    {
     "name": "stdout",
     "output_type": "stream",
     "text": [
      "['Frozen II', 'Directed by', 'Produced by', 'Screenplay by', 'Story by', 'Starring', 'Music by', 'Cinematography', 'Edited by', 'Productioncompany', 'Distributed by', 'Release date', 'Running time', 'Country', 'Language', 'Budget', 'Box office']\n"
     ]
    }
   ],
   "source": [
    "data ={}\n",
    "t_headers=[]\n",
    "for th in table.find_all(\"th\"):\n",
    "    t_headers.append(th.text.replace('\\n', ' ').strip())\n",
    "\n",
    "print(t_headers)"
   ]
  },
  {
   "cell_type": "code",
   "execution_count": 48,
   "metadata": {},
   "outputs": [
    {
     "name": "stdout",
     "output_type": "stream",
     "text": [
      "['Theatrical release poster', 'Chris Buck Jennifer Lee', 'Peter Del Vecho', 'Jennifer Lee[1]', 'Chris Buck[2] Jennifer Lee[2] Marc E. Smith[2] Kristen Anderson-Lopez[2] Robert Lopez[2]', 'Kristen Bell Idina Menzel Josh Gad Jonathan Groff', 'Songs: Robert Lopez Kristen Anderson-Lopez Score: Christophe Beck[3]', 'Tracy Scott Beattie (layout) Mohit Kallianpur (lighting)', 'Jeff Draheim', 'Walt Disney Pictures Walt Disney Animation Studios', 'Walt Disney StudiosMotion Pictures', 'November\\xa07,\\xa02019\\xa0(2019-11-07) (Dolby Theatre) November\\xa022,\\xa02019\\xa0(2019-11-22) (United States)', '103 minutes[4]', 'United States', 'English', '$150 million[5]', '$1.450 billion[5][6]']\n"
     ]
    }
   ],
   "source": [
    "table_data = []\n",
    "for td in table.tbody.find_all(\"td\"): # find all tr's from table's tbody\n",
    "    table_data.append(td.text.replace('\\n',' ').strip())\n",
    "#data[t_headers] = table_data\n",
    "print(table_data)"
   ]
  },
  {
   "cell_type": "code",
   "execution_count": 55,
   "metadata": {},
   "outputs": [
    {
     "name": "stdout",
     "output_type": "stream",
     "text": [
      "Produced by:Peter Del Vecho\n",
      "Screenplay by:Jennifer Lee[1]\n",
      "Story by:Chris Buck[2] Jennifer Lee[2] Marc E. Smith[2] Kristen Anderson-Lopez[2] Robert Lopez[2]\n",
      "Starring:Kristen Bell Idina Menzel Josh Gad Jonathan Groff\n",
      "Music by:Songs: Robert Lopez Kristen Anderson-Lopez Score: Christophe Beck[3]\n",
      "Cinematography:Tracy Scott Beattie (layout) Mohit Kallianpur (lighting)\n",
      "Edited by:Jeff Draheim\n",
      "Productioncompany:Walt Disney Pictures Walt Disney Animation Studios\n",
      "Distributed by:Walt Disney StudiosMotion Pictures\n",
      "Release date:November 7, 2019 (2019-11-07) (Dolby Theatre) November 22, 2019 (2019-11-22) (United States)\n",
      "Running time:103 minutes[4]\n",
      "Country:United States\n",
      "Language:English\n",
      "Budget:$150 million[5]\n",
      "Box office:$1.450 billion[5][6]\n"
     ]
    }
   ],
   "source": [
    "l=len(t_headers)\n",
    "for i in range(2,l):\n",
    "    print(t_headers[i],end=\"\")\n",
    "    print(\":\",end=\"\")\n",
    "    print(table_data[i])"
   ]
  },
  {
   "cell_type": "code",
   "execution_count": null,
   "metadata": {},
   "outputs": [],
   "source": []
  }
 ],
 "metadata": {
  "kernelspec": {
   "display_name": "Python 3",
   "language": "python",
   "name": "python3"
  },
  "language_info": {
   "codemirror_mode": {
    "name": "ipython",
    "version": 3
   },
   "file_extension": ".py",
   "mimetype": "text/x-python",
   "name": "python",
   "nbconvert_exporter": "python",
   "pygments_lexer": "ipython3",
   "version": "3.7.4"
  }
 },
 "nbformat": 4,
 "nbformat_minor": 4
}
